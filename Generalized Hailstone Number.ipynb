{
 "cells": [
  {
   "cell_type": "code",
   "execution_count": 2,
   "metadata": {},
   "outputs": [],
   "source": [
    "#Function to calculate Generalised Hailstone Number, which takes \n",
    "#n: Number to find holding patterns,a & b to iterate over their different combinations\n",
    "def Gen_hailstone(n,a,b):\n",
    "    from itertools import product\n",
    "    comb= product(range(1,a+1),range(1,b+1)) # Combination of (a,b)\n",
    "    c=n\n",
    "    total=0\n",
    "    for a,b in comb: #For Loop to iterate over (a,b) values in the combination\n",
    "        seq=[] #Empty list to store the holding pattern at every iteration\n",
    "        n=c\n",
    "        while len(seq)<1000: #While loop to execute till 1000 steps as,no sequence will converge after 1000 steps\n",
    "            seq.append(n) #Appending value of updated n after every iteration\n",
    "            if n%2==0: #Condition to check whether n is even\n",
    "                n=n//2\n",
    "            else:\n",
    "                n=a*n+b\n",
    "            if n in seq or n==1: #Condition to check if the holding pattern is converging\n",
    "                 break #If not converging then break and exit the while loop\n",
    "                         \n",
    "        seq.append(n) #Appending 1 or n to the list\n",
    "        if seq[-1]==1 or seq[-1]==c: #Condition to check if the sequence is converging or not\n",
    "            total=total+1 #Sum of total number of convering patterns\n",
    "            print('{0},{1},{2}={3}   |Steps={4}|'.format(c,a,b,seq,len(seq))) #Printing Converging Patterns with total steps taken to converge\n",
    "    print(\"TOTAL CONVERGING PATTERNS=\",total) #Printing Total Number of Converging Patterns\n",
    "        \n",
    "                   \n",
    "        "
   ]
  },
  {
   "cell_type": "code",
   "execution_count": 4,
   "metadata": {},
   "outputs": [
    {
     "name": "stdout",
     "output_type": "stream",
     "text": [
      "183,1,1=[183, 184, 92, 46, 23, 24, 12, 6, 3, 4, 2, 1]   |Steps=12|\n",
      "183,1,5=[183, 188, 94, 47, 52, 26, 13, 18, 9, 14, 7, 12, 6, 3, 8, 4, 2, 1]   |Steps=18|\n",
      "183,1,7=[183, 190, 95, 102, 51, 58, 29, 36, 18, 9, 16, 8, 4, 2, 1]   |Steps=15|\n",
      "183,2,2=[183, 368, 184, 92, 46, 23, 48, 24, 12, 6, 3, 8, 4, 2, 1]   |Steps=15|\n",
      "183,2,10=[183, 376, 188, 94, 47, 104, 52, 26, 13, 36, 18, 9, 28, 14, 7, 24, 12, 6, 3, 16, 8, 4, 2, 1]   |Steps=24|\n",
      "183,3,1=[183, 550, 275, 826, 413, 1240, 620, 310, 155, 466, 233, 700, 350, 175, 526, 263, 790, 395, 1186, 593, 1780, 890, 445, 1336, 668, 334, 167, 502, 251, 754, 377, 1132, 566, 283, 850, 425, 1276, 638, 319, 958, 479, 1438, 719, 2158, 1079, 3238, 1619, 4858, 2429, 7288, 3644, 1822, 911, 2734, 1367, 4102, 2051, 6154, 3077, 9232, 4616, 2308, 1154, 577, 1732, 866, 433, 1300, 650, 325, 976, 488, 244, 122, 61, 184, 92, 46, 23, 70, 35, 106, 53, 160, 80, 40, 20, 10, 5, 16, 8, 4, 2, 1]   |Steps=94|\n",
      "183,3,7=[183, 556, 278, 139, 424, 212, 106, 53, 166, 83, 256, 128, 64, 32, 16, 8, 4, 2, 1]   |Steps=19|\n",
      "183,4,4=[183, 736, 368, 184, 92, 46, 23, 96, 48, 24, 12, 6, 3, 16, 8, 4, 2, 1]   |Steps=18|\n",
      "183,5,9=[183, 924, 462, 231, 1164, 582, 291, 1464, 732, 366, 183]   |Steps=11|\n",
      "183,6,2=[183, 1100, 550, 275, 1652, 826, 413, 2480, 1240, 620, 310, 155, 932, 466, 233, 1400, 700, 350, 175, 1052, 526, 263, 1580, 790, 395, 2372, 1186, 593, 3560, 1780, 890, 445, 2672, 1336, 668, 334, 167, 1004, 502, 251, 1508, 754, 377, 2264, 1132, 566, 283, 1700, 850, 425, 2552, 1276, 638, 319, 1916, 958, 479, 2876, 1438, 719, 4316, 2158, 1079, 6476, 3238, 1619, 9716, 4858, 2429, 14576, 7288, 3644, 1822, 911, 5468, 2734, 1367, 8204, 4102, 2051, 12308, 6154, 3077, 18464, 9232, 4616, 2308, 1154, 577, 3464, 1732, 866, 433, 2600, 1300, 650, 325, 1952, 976, 488, 244, 122, 61, 368, 184, 92, 46, 23, 140, 70, 35, 212, 106, 53, 320, 160, 80, 40, 20, 10, 5, 32, 16, 8, 4, 2, 1]   |Steps=127|\n",
      "183,8,8=[183, 1472, 736, 368, 184, 92, 46, 23, 192, 96, 48, 24, 12, 6, 3, 32, 16, 8, 4, 2, 1]   |Steps=21|\n",
      "TOTAL CONVERGING PATTERNS= 11\n"
     ]
    }
   ],
   "source": [
    "Gen_hailstone(183,10,10)"
   ]
  },
  {
   "cell_type": "code",
   "execution_count": null,
   "metadata": {},
   "outputs": [],
   "source": []
  },
  {
   "cell_type": "code",
   "execution_count": null,
   "metadata": {},
   "outputs": [],
   "source": []
  }
 ],
 "metadata": {
  "kernelspec": {
   "display_name": "Python 3",
   "language": "python",
   "name": "python3"
  },
  "language_info": {
   "codemirror_mode": {
    "name": "ipython",
    "version": 3
   },
   "file_extension": ".py",
   "mimetype": "text/x-python",
   "name": "python",
   "nbconvert_exporter": "python",
   "pygments_lexer": "ipython3",
   "version": "3.7.4"
  }
 },
 "nbformat": 4,
 "nbformat_minor": 2
}
